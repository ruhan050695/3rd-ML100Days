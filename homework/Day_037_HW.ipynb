{
 "cells": [
  {
   "cell_type": "markdown",
   "metadata": {},
   "source": [
    "## [作業重點]\n",
    "了解線性回歸的模型發展歷程，並了解優勢與劣勢，以及其使用情境"
   ]
  },
  {
   "cell_type": "markdown",
   "metadata": {},
   "source": [
    "## 作業"
   ]
  },
  {
   "cell_type": "markdown",
   "metadata": {},
   "source": [
    "請閱讀以下相關文獻，並回答以下問題\n",
    "\n",
    "[Linear Regression 詳細介紹](https://brohrer.mcknote.com/zh-Hant/how_machine_learning_works/how_linear_regression_works.html)\n",
    "\n",
    "[Logistics Regression 詳細介紹](https://medium.com/@yehjames/%E8%B3%87%E6%96%99%E5%88%86%E6%9E%90-%E6%A9%9F%E5%99%A8%E5%AD%B8%E7%BF%92-%E7%AC%AC3-3%E8%AC%9B-%E7%B7%9A%E6%80%A7%E5%88%86%E9%A1%9E-%E9%82%8F%E8%BC%AF%E6%96%AF%E5%9B%9E%E6%AD%B8-logistic-regression-%E4%BB%8B%E7%B4%B9-a1a5f47017e5)\n"
   ]
  },
  {
   "cell_type": "markdown",
   "metadata": {},
   "source": [
    "1. 線性回歸模型能夠準確預測非線性關係的資料集嗎?\n",
    "2. 回歸模型是否對資料分布有基本假設?\n"
   ]
  },
  {
   "cell_type": "code",
   "execution_count": null,
   "metadata": {},
   "outputs": [],
   "source": [
    "線性回歸模型能夠準確預測非線性關係的資料集嗎?\n",
    "可以\n",
    "「找出符合資料規律的直線，就叫線性迴歸」的原文為 Finding the curve that best fits your data is called regression, \n",
    "and when that curve is a straight line, it's called linear regression. 雖然我以前學的說法是\n",
    "「只要因變量為自變量的線性組合，就可以稱作線性迴歸」，這代表就算線條不是直的，也可能是線性迴歸；\n",
    "但如果將包括多項式的迴歸細分作 polynomial regression，將作者說法算作 simple linear regression 也沒錯。\n",
    "\n",
    "非線性回歸：\n",
    "\n",
    "利用數理統計方法建立因變量與自變量之間的回歸方程的方法。如果回歸模型的因變量不是自變量的一次函數形式(因變量是自變量的一次以上函數形式)，\n",
    "回歸規律在圖形上表現為形態各異的各種曲線，稱為非線性回歸。這類模型稱為非線性回歸模型。\n",
    "\n",
    "\n",
    "\n",
    "原文網址：https://kknews.cc/code/r8xgqjx.html"
   ]
  },
  {
   "cell_type": "code",
   "execution_count": null,
   "metadata": {},
   "outputs": [],
   "source": [
    "回歸模型是否對資料分布有基本假設?\n"
   ]
  }
 ],
 "metadata": {
  "kernelspec": {
   "display_name": "Python 3",
   "language": "python",
   "name": "python3"
  },
  "language_info": {
   "codemirror_mode": {
    "name": "ipython",
    "version": 3
   },
   "file_extension": ".py",
   "mimetype": "text/x-python",
   "name": "python",
   "nbconvert_exporter": "python",
   "pygments_lexer": "ipython3",
   "version": "3.6.4"
  }
 },
 "nbformat": 4,
 "nbformat_minor": 2
}
